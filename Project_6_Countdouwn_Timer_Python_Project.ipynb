{
  "nbformat": 4,
  "nbformat_minor": 0,
  "metadata": {
    "colab": {
      "provenance": [],
      "authorship_tag": "ABX9TyOokUMhnIEfp3ZuU+DXLEkc",
      "include_colab_link": true
    },
    "kernelspec": {
      "name": "python3",
      "display_name": "Python 3"
    },
    "language_info": {
      "name": "python"
    }
  },
  "cells": [
    {
      "cell_type": "markdown",
      "metadata": {
        "id": "view-in-github",
        "colab_type": "text"
      },
      "source": [
        "<a href=\"https://colab.research.google.com/github/Imranshah19/Project-6-Countdouwn_Timer-Python-Project/blob/main/Project_6_Countdouwn_Timer_Python_Project.ipynb\" target=\"_parent\"><img src=\"https://colab.research.google.com/assets/colab-badge.svg\" alt=\"Open In Colab\"/></a>"
      ]
    },
    {
      "cell_type": "code",
      "execution_count": null,
      "metadata": {
        "id": "VxRfhwaMaPfz"
      },
      "outputs": [],
      "source": [
        "import time\n",
        "\n",
        "def countdown_timer(seconds):\n",
        "    while seconds:\n",
        "        mins, secs = divmod(seconds, 60)  # Convert seconds to minutes and seconds\n",
        "        timer = f\"{mins:02}:{secs:02}\"\n",
        "        print(f\"\\r⏳ Time Left: {timer}\", end=\"\")  # Update time on the same line\n",
        "        time.sleep(1)\n",
        "        seconds -= 1\n",
        "\n",
        "    print(\"\\n🔔 Time's Up!\")\n",
        "\n",
        "# User input for countdown time\n",
        "try:\n",
        "    total_time = int(input(\"Enter countdown time in seconds: \"))\n",
        "    countdown_timer(total_time)\n",
        "except ValueError:\n",
        "    print(\"❌ Invalid input! Please enter a valid number.\")\n"
      ]
    }
  ]
}